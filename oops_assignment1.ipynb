{
  "nbformat": 4,
  "nbformat_minor": 0,
  "metadata": {
    "colab": {
      "provenance": []
    },
    "kernelspec": {
      "name": "python3",
      "display_name": "Python 3"
    },
    "language_info": {
      "name": "python"
    }
  },
  "cells": [
    {
      "cell_type": "code",
      "execution_count": null,
      "metadata": {
        "id": "2mhnq4yPiXG8"
      },
      "outputs": [],
      "source": []
    },
    {
      "cell_type": "markdown",
      "source": [
        "1. What is Object-Oriented Programming (OOP)?\n",
        "ans-Object-oriented programming (OOP) is a programming paradigm that uses \"objects\" to design computer programs. These objects contain data (attributes) and methods (functions) that operate on that data, promoting modularity, reusability, and easier maintenance of code."
      ],
      "metadata": {
        "id": "B-euCxpHidBR"
      }
    },
    {
      "cell_type": "markdown",
      "source": [
        "2.  What is a class in OOP ?\n",
        "ans-In object-oriented programming (OOP), a class is a blueprint or template for creating objects. It defines the structure and behavior (attributes and methods) that its objects will share."
      ],
      "metadata": {
        "id": "oNSC49s7i8b1"
      }
    },
    {
      "cell_type": "markdown",
      "source": [
        "3.What is an object in OOP?\n",
        "ans-In Object-Oriented Programming (OOP), an object is a fundamental building block representing a specific instance of a class."
      ],
      "metadata": {
        "id": "Veir-JbJjLjB"
      }
    },
    {
      "cell_type": "markdown",
      "source": [
        "4.What is the difference between abstraction and encapsulation?\n",
        "ans-Abstraction and encapsulation are two fundamental concepts in object-oriented programming, often confused but distinct in their purpose. Abstraction focuses on hiding unnecessary complexity and showing only the essential features of an object, while encapsulation focuses on bundling the data (attributes) and methods (functions) that operate on that data into a single unit (class) and restricting access to the internal details."
      ],
      "metadata": {
        "id": "ZcTH3oafjXHd"
      }
    },
    {
      "cell_type": "markdown",
      "source": [
        "5. What are dunder methods in Python?\n",
        "ans-Dunder methods, also known as magic methods or special methods, are a set of predefined methods in Python that are distinguished by their names starting and ending with double underscores (e.g., __init__, __str__, __len__). These methods allow you to define how your custom objects interact with Python's built-in functions, operators, and syntax."
      ],
      "metadata": {
        "id": "RLQsCmt5jrrq"
      }
    },
    {
      "cell_type": "markdown",
      "source": [
        "6.  Explain the concept of inheritance in OOP?\n",
        "ans-Inheritance is a fundamental concept in OOP that allows a class (child/subclass) to inherit attributes and methods from another class (parent/superclass)\n",
        "ex-class A:\n",
        "    passed\n",
        "\n",
        "class B(A):\n",
        "    passed\n"
      ],
      "metadata": {
        "id": "acDkYqjAj7dV"
      }
    },
    {
      "cell_type": "markdown",
      "source": [
        "7. What is polymorphism in OOP ?\n",
        "ans-Polymorphism means \"many forms\". In Object-Oriented Programming, it allows objects of different classes to be treated as if they are objects of the same parent class, especially when they share the same method name but behave differently."
      ],
      "metadata": {
        "id": "RQmDl6X2pJyB"
      }
    },
    {
      "cell_type": "markdown",
      "source": [
        "8.  How is encapsulation achieved in Python ?\n",
        "ans- Encapsulation is the process of hiding the internal state and protecting the data of an object from direct external access. In Python, encapsulation is achieved by."
      ],
      "metadata": {
        "id": "1vpHnY3bpgZp"
      }
    },
    {
      "cell_type": "markdown",
      "source": [
        "9.What is a constructor in Python?\n",
        "ans-A constructor in Python is a special method used to initialize objects when they are created from a class. In Python, this is done using the built-in method __init__().\n",
        "\n",
        "class Student:\n",
        "    def __init__(self, name, grade):\n",
        "        self.name = name       # instance variable\n",
        "        self.grade = grade\n",
        "\n",
        "# Create an object of Student\n",
        "s1 = Student(\"vivek\", \"D\")\n",
        "print(s1.name)   # Output: vivek\n",
        "print(s1.grade)  # Output: D\n"
      ],
      "metadata": {
        "id": "IHR3yuMIp-mg"
      }
    },
    {
      "cell_type": "markdown",
      "source": [
        "10. What are class and static methods in Python ?\n",
        "ans-In Python, both class methods and static methods are used to define methods that are not bound to instance objects. However, they serve different purposes and behave differently.\n",
        "\n",
        "ex-class Student:\n",
        "    school_name = \"Svm High School\"\n",
        "\n",
        "    @classmethod\n",
        "    def change_school(cls, name):\n",
        "        cls.school_name = name\n",
        "\n",
        "Student.change_school(\"XYZ Public School\")\n",
        "print(Student.school_name)  # Output: XYZ Public School\n"
      ],
      "metadata": {
        "id": "hzV22VFeqs4G"
      }
    },
    {
      "cell_type": "markdown",
      "source": [
        "11. What is method overloading in Python?\n",
        "ans-Method Overloading means defining multiple methods with the same name but with different arguments (type or number). This allows a class to perform different tasks using the same method name, depending on the input.\n",
        "\n",
        "ex-class Demo:\n",
        "    def show(self):\n",
        "        print(\"No arguments\")\n",
        "\n",
        "    def show(self, x):\n",
        "        print(\"One argument:\", x)\n",
        "\n",
        "d = Demo()\n",
        "d.show(10)   # Output: One argument: 10\n",
        "# d.show()   # Error:"
      ],
      "metadata": {
        "id": "bG7p27w05FYn"
      }
    },
    {
      "cell_type": "markdown",
      "source": [
        "12. What is method overriding in OOP ?\n",
        "ans-Method Overriding is a feature in Object-Oriented Programming (OOP) that allows a child class to provide a specific implementation of a method that is already defined in its parent class."
      ],
      "metadata": {
        "id": "Sj2iqJFS5nGg"
      }
    },
    {
      "cell_type": "markdown",
      "source": [
        "13.What is a property decorator in Python?\n",
        "ans-The @property decorator in Python is used to define a method that behaves like an attribute — allowing you to access method results using dot notation without calling the method explicitly."
      ],
      "metadata": {
        "id": "n4PMMuEk6Ahw"
      }
    },
    {
      "cell_type": "markdown",
      "source": [
        "14.Why is polymorphism important in OOP?\n",
        "ans-Polymorphism is a core principle in Object-Oriented Programming (OOP) that allows for objects of different classes to be treated as objects of a common parent class. The most common forms of polymorphism in OOP are method overriding and method overloading.\n"
      ],
      "metadata": {
        "id": "gJqUfLmj6ar-"
      }
    },
    {
      "cell_type": "markdown",
      "source": [
        "15.What is an abstract class in Python?\n",
        "ans-An abstract class in Python is a class that serves as a blueprint for other classes. It can define methods that must be implemented by its subclasses but cannot be instantiated itself.\n",
        "\n",
        "Defined using the abc module (abc = Abstract Base Class).\n",
        "\n",
        "Use the @abstractmethod decorator to mark methods that must be implemented in child classes.\n",
        "\n",
        "Cannot create objects directly from an abstract class."
      ],
      "metadata": {
        "id": "NyvO-yud6z5N"
      }
    },
    {
      "cell_type": "markdown",
      "source": [
        "16. What are the advantages of OOP?\n",
        "ans-Object-Oriented Programming (OOP) is a powerful paradigm that organizes code around objects and classes, making programs more modular, reusable, and easier to manage.\n"
      ],
      "metadata": {
        "id": "s6zRTXX-7ETE"
      }
    },
    {
      "cell_type": "markdown",
      "source": [
        "17.  What is the difference between a class variable and an instance variable?\n",
        "ans-In Object-Oriented Programming, particularly in Python, class variables and instance variables store data — but they differ in scope, lifetime, and behavior.\n",
        "\n",
        "instance -Defined using: self.variable_name\n",
        "\n",
        "class variable-Defined outside any methods, usually directly inside the class."
      ],
      "metadata": {
        "id": "sgCVvBX97_zL"
      }
    },
    {
      "cell_type": "markdown",
      "source": [
        "18. What is multiple inheritance in Python?\n",
        "ans- Multiple Inheritance is a feature in object-oriented programming (including Python) where a child class can inherit from more than one parent class.\n",
        "\n",
        "This means a subclass can combine the behavior and properties of multiple base classes.\n",
        "\n",
        "ex-class Parent1:\n",
        "    #  code\n",
        "\n",
        "class Parent2:\n",
        "    # code\n",
        "\n",
        "class Child(Parent1, Parent2):\n",
        "    # inherits from both"
      ],
      "metadata": {
        "id": "mppZ5aVF8djy"
      }
    },
    {
      "cell_type": "markdown",
      "source": [
        "19. Explain the purpose of ‘’__str__’ and ‘__repr__’ ‘ methods in Python?\n",
        "ans-In Python, __str__() and __repr__() are special methods used to define string representations of objects. These help when you print an object or inspect it in the console."
      ],
      "metadata": {
        "id": "MkhCC1Z39xkW"
      }
    },
    {
      "cell_type": "markdown",
      "source": [
        "20. What is the significance of the ‘super()’ function in Python?\n",
        "ans-The super() function in Python is used to call methods from a parent (super) class. It is especially useful in inheritance, where a child class needs to extend or modify the behavior of its parent class without completely rewriting it.\n",
        "\n"
      ],
      "metadata": {
        "id": "98FbzAVy-SMF"
      }
    },
    {
      "cell_type": "markdown",
      "source": [
        "21.What is the significance of the __del__ method in Python?\n",
        "ans-The __del__() method in Python is a special method called a destructor. It is automatically invoked when an object is about to be destroyed (i.e., when it is garbage collected).\n"
      ],
      "metadata": {
        "id": "67xfP_OX-jw-"
      }
    },
    {
      "cell_type": "markdown",
      "source": [
        "22.What is the difference between @staticmethod and @classmethod in Python?\n",
        "ans-In Python, both @staticmethod and @classmethod are decorators used to define methods that are not bound to instance objects. But they serve different purposes and have different behaviors."
      ],
      "metadata": {
        "id": "2qEOq1Bp-uk3"
      }
    },
    {
      "cell_type": "markdown",
      "source": [
        "23.How does polymorphism work in Python with inheritance?\n",
        "ans-Polymorphism in Python allows different classes to define methods with the same name but different behavior, and enables the same interface (method call) to work for objects of different classes.\n",
        "\n",
        "When combined with inheritance, polymorphism allows child classes to override methods of a parent class and still be treated as if they are objects of the parent type."
      ],
      "metadata": {
        "id": "6RJN1OEW-8mM"
      }
    },
    {
      "cell_type": "markdown",
      "source": [
        "24. What is method chaining in Python OOP?\n",
        "ans-Method chaining is a programming technique in which multiple methods are called sequentially on the same object in a single line of code.\n",
        "It allows you to \"chain\" methods together to make the code more concise and readable."
      ],
      "metadata": {
        "id": "keexgEFp_Kft"
      }
    },
    {
      "cell_type": "markdown",
      "source": [
        "25. What is the purpose of the __call__ method in Python??\n",
        "ans-the __call__() method in Python allows an instance of a class to be called like a function.\n",
        "\n",
        "--> If a class defines a __call__() method, then its object becomes callable — meaning you can use parentheses () after the object, just like you would with a function."
      ],
      "metadata": {
        "id": "pmCCVvHT_9qd"
      }
    },
    {
      "cell_type": "markdown",
      "source": [
        "***PRACTICAL QUESTIONS***"
      ],
      "metadata": {
        "id": "O0LA2D08AR2k"
      }
    },
    {
      "cell_type": "code",
      "source": [
        "# 1.Create a parent class Animal with a method speak() that prints a generic message. Create a child class Dog that overrides the speak() method to print \"Bark!\".\n",
        "# Parent class\n",
        "class Animal:\n",
        "    def speak(self):\n",
        "        print(\"The animal makes a sound.\")\n",
        "\n",
        "# Child class\n",
        "class Dog(Animal):\n",
        "    def speak(self):\n",
        "        print(\"Bark!\")\n",
        "\n",
        "# Example\n",
        "a = Animal()\n",
        "a.speak()\n",
        "\n",
        "d = Dog()\n",
        "d.speak()"
      ],
      "metadata": {
        "colab": {
          "base_uri": "https://localhost:8080/"
        },
        "id": "3ZfpKJNbBTXl",
        "outputId": "ea1e893c-a0fa-4491-b286-d16809162a80"
      },
      "execution_count": null,
      "outputs": [
        {
          "output_type": "stream",
          "name": "stdout",
          "text": [
            "The animal makes a sound.\n",
            "Bark!\n"
          ]
        }
      ]
    },
    {
      "cell_type": "code",
      "source": [
        "# 2. Write a program to create an abstract class Shape with a method area(). Derive classes Circle and Rectangle from it and implement the area() method in both?\n",
        "from abc import ABC, abstractmethod\n",
        "import math\n",
        "\n",
        "# Abstract base class\n",
        "class Shape(ABC):\n",
        "    @abstractmethod\n",
        "    def area(self):\n",
        "        pass\n",
        "\n",
        "# Circle class derived from Shape\n",
        "class Circle(Shape):\n",
        "    def __init__(self, radius):\n",
        "        self.radius = radius\n",
        "\n",
        "    def area(self):\n",
        "        return math.pi * self.radius ** 2\n",
        "\n",
        "# Rectangle class derived from Shape\n",
        "class Rectangle(Shape):\n",
        "    def __init__(self, length, width):\n",
        "        self.length = length\n",
        "        self.width = width\n",
        "\n",
        "    def area(self):\n",
        "        return self.length * self.width\n",
        "\n",
        "# Example\n",
        "c = Circle(5)\n",
        "print(\"Area of Circle:\", c.area())  # Output: Area of Circle: 78.53981633974483\n",
        "\n",
        "r = Rectangle(4, 6)\n",
        "print(\"Area of Rectangle:\", r.area())  # Output: Area of Rectangle: 24\n",
        "\n"
      ],
      "metadata": {
        "colab": {
          "base_uri": "https://localhost:8080/"
        },
        "id": "DnUdLbGRB105",
        "outputId": "33a07231-7363-4de7-bbe0-b0d2e4c96a10"
      },
      "execution_count": null,
      "outputs": [
        {
          "output_type": "stream",
          "name": "stdout",
          "text": [
            "Area of Circle: 78.53981633974483\n",
            "Area of Rectangle: 24\n"
          ]
        }
      ]
    },
    {
      "cell_type": "code",
      "source": [
        "#  3. Implement a multi-level inheritance scenario where a class Vehicle has an attribute type. Derive a class Car and further derive a class ElectricCar that adds a battery attribute.\n",
        "\n",
        "# Base class\n",
        "class Vehicle:\n",
        "    def __init__(self, vehicle_type):\n",
        "        self.type = vehicle_type\n",
        "\n",
        "    def show_type(self):\n",
        "        print(\"Vehicle type:\", self.type)\n",
        "\n",
        "# Derived class from Vehicle\n",
        "class Car(Vehicle):\n",
        "    def __init__(self, vehicle_type, brand):\n",
        "        super().__init__(vehicle_type)\n",
        "        self.brand = brand\n",
        "\n",
        "    def show_brand(self):\n",
        "        print(\"Car brand:\", self.brand)\n",
        "\n",
        "# Derived class from Car\n",
        "class ElectricCar(Car):\n",
        "    def __init__(self, vehicle_type, brand, battery):\n",
        "        super().__init__(vehicle_type, brand)\n",
        "        self.battery = battery\n",
        "\n",
        "    def show_battery(self):\n",
        "        print(\"Battery capacity:\", self.battery)\n",
        "\n",
        "# Example\n",
        "e_car = ElectricCar(\"Four-Wheeler\", \"Tesla\", \"75 kWh\")\n",
        "e_car.show_type()      # Output: Vehicle type: Four-Wheeler\n",
        "e_car.show_brand()     # Output: Car brand: Tesla\n",
        "e_car.show_battery()   # Output: Battery capacity: 75 kWh\n"
      ],
      "metadata": {
        "colab": {
          "base_uri": "https://localhost:8080/"
        },
        "id": "YcKd4ZJuCjlf",
        "outputId": "0cdfedcd-21cd-459b-bd4e-3b3267270912"
      },
      "execution_count": null,
      "outputs": [
        {
          "output_type": "stream",
          "name": "stdout",
          "text": [
            "Vehicle type: Four-Wheeler\n",
            "Car brand: Tesla\n",
            "Battery capacity: 75 kWh\n"
          ]
        }
      ]
    },
    {
      "cell_type": "code",
      "source": [
        "#  4. Demonstrate polymorphism by creating a base class Bird with a method fly(). Create two derived classes Sparrow and Penguin that override the fly() method.\n",
        "\n",
        "# Base class\n",
        "class Bird:\n",
        "    def fly(self):\n",
        "        print(\"Some birds can fly.\")\n",
        "\n",
        "# Derived class\n",
        "class Sparrow(Bird):\n",
        "    def fly(self):\n",
        "        print(\"Sparrow flies high in the sky.\")\n",
        "\n",
        "# Derived class\n",
        "class Penguin(Bird):\n",
        "    def fly(self):\n",
        "        print(\"Penguins cannot fly, they swim.\")\n",
        "\n",
        "# Function to demonstrate polymorphism\n",
        "def bird_flight(bird):\n",
        "    bird.fly()\n",
        "\n",
        "# Example\n",
        "b1 = Sparrow()\n",
        "b2 = Penguin()\n",
        "\n",
        "bird_flight(b1)  # Output: Sparrow flies high in the sky.\n",
        "bird_flight(b2)  # Output: Penguins cannot fly, they swim.\n"
      ],
      "metadata": {
        "id": "-8gZo6iIDDy1",
        "colab": {
          "base_uri": "https://localhost:8080/"
        },
        "outputId": "b215df4a-dfe2-4caf-ce7f-65dab2430dca"
      },
      "execution_count": null,
      "outputs": [
        {
          "output_type": "stream",
          "name": "stdout",
          "text": [
            "Sparrow flies high in the sky.\n",
            "Penguins cannot fly, they swim.\n"
          ]
        }
      ]
    },
    {
      "cell_type": "code",
      "source": [
        "# 5. Write a program to demonstrate encapsulation by creating a class BankAccount with private attributes balance and methods to deposit, withdraw, and check balance.\n",
        "class BankAccount:\n",
        "    def __init__(self, initial_balance=0):\n",
        "        self.__balance = initial_balance  # Private attribute\n",
        "\n",
        "    def deposit(self, amount):\n",
        "        if amount > 0:\n",
        "            self.__balance += amount\n",
        "            print(f\"Deposited ₹{amount}\")\n",
        "        else:\n",
        "            print(\"Deposit amount must be positive.\")\n",
        "\n",
        "    def withdraw(self, amount):\n",
        "        if 0 < amount <= self.__balance:\n",
        "            self.__balance -= amount\n",
        "            print(f\"Withdrew ₹{amount}\")\n",
        "        else:\n",
        "            print(\"Insufficient balance or invalid amount.\")\n",
        "\n",
        "    def check_balance(self):\n",
        "        print(f\"Current balance: ₹{self.__balance}\")\n",
        "\n",
        "# Example\n",
        "account = BankAccount(1000)\n",
        "account.check_balance()   # Output: Current balance: ₹1000\n",
        "\n",
        "account.deposit(500)      # Output: Deposited ₹500\n",
        "account.check_balance()   # Output: Current balance: ₹1500\n",
        "\n",
        "account.withdraw(200)     # Output: Withdrew ₹200\n",
        "account.check_balance()   # Output: Current balance: ₹1300\n",
        "\n",
        "# Trying to access the private attribute directly (not recommended)\n",
        "# print(account.__balance)  # This will raise an AttributeError\n"
      ],
      "metadata": {
        "colab": {
          "base_uri": "https://localhost:8080/"
        },
        "id": "eZeqrXnAlQ-a",
        "outputId": "4d2aefe8-12bf-476d-bee4-323eb9cbf394"
      },
      "execution_count": 1,
      "outputs": [
        {
          "output_type": "stream",
          "name": "stdout",
          "text": [
            "Current balance: ₹1000\n",
            "Deposited ₹500\n",
            "Current balance: ₹1500\n",
            "Withdrew ₹200\n",
            "Current balance: ₹1300\n"
          ]
        }
      ]
    },
    {
      "cell_type": "code",
      "source": [
        "#  6. Demonstrate runtime polymorphism using a method play() in a base class Instrument. Derive classes Guitar and Piano that implement their own version of play()\n",
        "# Base class\n",
        "class Instrument:\n",
        "    def play(self):\n",
        "        print(\"Playing an instrument.\")\n",
        "\n",
        "# Derived class\n",
        "class Guitar(Instrument):\n",
        "    def play(self):\n",
        "        print(\"Strumming the guitar.\")\n",
        "\n",
        "# Derived class\n",
        "class Piano(Instrument):\n",
        "    def play(self):\n",
        "        print(\"Playing the piano.\")\n",
        "\n",
        "# Function to demonstrate runtime polymorphism\n",
        "def start_playing(instrument):\n",
        "    instrument.play()\n",
        "\n",
        "# Example\n",
        "i1 = Guitar()\n",
        "i2 = Piano()\n",
        "\n",
        "start_playing(i1)  # Output: Strumming the guitar.\n",
        "start_playing(i2)  # Output: Playing the piano.\n"
      ],
      "metadata": {
        "colab": {
          "base_uri": "https://localhost:8080/"
        },
        "id": "jYfZW9_Dlxtg",
        "outputId": "9c330c18-b1a3-483b-f3b9-f8fe94eedc47"
      },
      "execution_count": null,
      "outputs": [
        {
          "output_type": "stream",
          "name": "stdout",
          "text": [
            "Strumming the guitar.\n",
            "Playing the piano.\n"
          ]
        }
      ]
    },
    {
      "cell_type": "code",
      "source": [
        "#  7. Create a class MathOperations with a class method add_numbers() to add two numbers and a static method subtract_numbers() to subtract two numbers.\n",
        "class MathOperations:\n",
        "    @classmethod\n",
        "    def add_numbers(cls, a, b):\n",
        "        return a + b\n",
        "\n",
        "    @staticmethod\n",
        "    def subtract_numbers(a, b):\n",
        "        return a - b\n",
        "\n",
        "# Example\n",
        "result1 = MathOperations.add_numbers(100, 60)\n",
        "print(\"Addition:\", result1)   # Output: Addition: 160\n",
        "\n",
        "result2 = MathOperations.subtract_numbers(100, 60)\n",
        "print(\"Subtraction:\", result2)  # Output: Subtraction: 40\n"
      ],
      "metadata": {
        "colab": {
          "base_uri": "https://localhost:8080/"
        },
        "id": "bNIazSm-mBU4",
        "outputId": "c3de6864-5412-44f8-98e9-3259ade9668a"
      },
      "execution_count": null,
      "outputs": [
        {
          "output_type": "stream",
          "name": "stdout",
          "text": [
            "Addition: 160\n",
            "Subtraction: 40\n"
          ]
        }
      ]
    },
    {
      "cell_type": "code",
      "source": [
        "# 8. Implement a class Person with a class method to count the total number of persons created.\n",
        "class Person:\n",
        "    count = 0  # Class variable to keep track of person count\n",
        "\n",
        "    def __init__(self, name):\n",
        "        self.name = name\n",
        "        Person.count += 1\n",
        "\n",
        "    @classmethod\n",
        "    def total_persons(cls):\n",
        "        return cls.count\n",
        "\n",
        "# Example\n",
        "p1 = Person(\"vks\")\n",
        "p2 = Person(\"svs\")\n",
        "p3 = Person(\"sullere\")\n",
        "print(p1.name)\n",
        "print(p2.name)\n",
        "print(p3.name)\n",
        "\n",
        "\n",
        "print(\"Total persons created:\", Person.total_persons())  # Output: Total persons created: 3\n"
      ],
      "metadata": {
        "colab": {
          "base_uri": "https://localhost:8080/"
        },
        "id": "6ERjqf7uminO",
        "outputId": "9fd2a422-c023-4861-9027-5990d37c0983"
      },
      "execution_count": null,
      "outputs": [
        {
          "output_type": "stream",
          "name": "stdout",
          "text": [
            "vks\n",
            "svs\n",
            "sullere\n",
            "Total persons created: 3\n"
          ]
        }
      ]
    },
    {
      "cell_type": "code",
      "source": [
        "# 9.Write a class Fraction with attributes numerator and denominator. Override the str method to display the fraction as \"numerator/denominator\".\n",
        "class Fraction:\n",
        "    def __init__(self, numerator, denominator):\n",
        "        self.numerator = numerator\n",
        "        self.denominator = denominator\n",
        "\n",
        "    def __str__(self):\n",
        "        return f\"{self.numerator}/{self.denominator}\"\n",
        "\n",
        "f1 = Fraction(9, 4)\n",
        "print(f1)  # Output: 9/4\n",
        "\n",
        "f2 = Fraction(7, 6)\n",
        "print(f2)  # Output: 7/6\n"
      ],
      "metadata": {
        "id": "CcdH_pgiNhBG",
        "colab": {
          "base_uri": "https://localhost:8080/"
        },
        "outputId": "ebda42dd-8357-40a6-cd14-2c687278aa7a"
      },
      "execution_count": null,
      "outputs": [
        {
          "output_type": "stream",
          "name": "stdout",
          "text": [
            "9/4\n",
            "7/6\n"
          ]
        }
      ]
    },
    {
      "cell_type": "code",
      "source": [
        "# 10. Demonstrate operator overloading by creating a class Vector and overriding the add method to add two vectors.\n",
        "class Vector:\n",
        "    def __init__(self, x, y):\n",
        "        self.x = x\n",
        "        self.y = y\n",
        "\n",
        "    def __add__(self, other):\n",
        "        return Vector(self.x + other.x, self.y + other.y)\n",
        "\n",
        "    def __str__(self):\n",
        "        return f\"({self.x}, {self.y})\"\n",
        "\n",
        "# Example\n",
        "v1 = Vector(2, 3)\n",
        "v2 = Vector(4, 5)\n",
        "\n",
        "v3 = v1 + v2  # Calls __add__ method\n",
        "print(\"Resultant Vector:\", v3)  # Output: Resultant Vector: (6, 8)\n"
      ],
      "metadata": {
        "colab": {
          "base_uri": "https://localhost:8080/"
        },
        "id": "6AWeGPVrOnM5",
        "outputId": "176580d2-2b99-41b5-ed49-975cf26fbf2d"
      },
      "execution_count": null,
      "outputs": [
        {
          "output_type": "stream",
          "name": "stdout",
          "text": [
            "Resultant Vector: (6, 8)\n"
          ]
        }
      ]
    },
    {
      "cell_type": "code",
      "source": [
        "# 11.  11. Create a class Person with attributes name and age. Add a method greet() that prints \"Hello, my name is {name} and I am {age} years old.\"\n",
        "class Person:\n",
        "    def __init__(self, name, age):\n",
        "        self.name = name\n",
        "        self.age = age\n",
        "\n",
        "    def greet(self):\n",
        "        print(f\"Hello, my name is {self.name} and I am {self.age} years old.\")\n",
        "\n",
        "# Example\n",
        "p1 = Person(\"raghav\", 39)\n",
        "p1.greet()  # Output:Hello, my name is raghav and I am 39 years old.\n"
      ],
      "metadata": {
        "colab": {
          "base_uri": "https://localhost:8080/"
        },
        "id": "2mxqUbfIO1rb",
        "outputId": "fd9bed34-8b3a-466b-ca22-7362cab47d70"
      },
      "execution_count": null,
      "outputs": [
        {
          "output_type": "stream",
          "name": "stdout",
          "text": [
            "Hello, my name is raghav and I am 39 years old.\n"
          ]
        }
      ]
    },
    {
      "cell_type": "code",
      "source": [
        "# 12.Implement a class Student with attributes name and grades. Create a method average_grade() to compute the average of the grades.\n",
        "class Student:\n",
        "    def __init__(self, name, grades):\n",
        "        self.name = name\n",
        "        self.grades = grades  # Should be a list of numbers\n",
        "\n",
        "    def average_grade(self):\n",
        "        if len(self.grades) == 0:\n",
        "            return 0\n",
        "        return sum(self.grades) / len(self.grades)\n",
        "\n",
        "# Example\n",
        "s1 = Student(\"rajiiv\", [89, 94, 73, 43])\n",
        "print(f\"{s1.name}'s average grade is:\", s1.average_grade())  # Output: rajiiv's average grade is: 74.75\n"
      ],
      "metadata": {
        "colab": {
          "base_uri": "https://localhost:8080/"
        },
        "id": "y1ldrIJyPPds",
        "outputId": "b2cd6a53-e946-40fe-bfae-0403ceb24451"
      },
      "execution_count": null,
      "outputs": [
        {
          "output_type": "stream",
          "name": "stdout",
          "text": [
            "rajiiv's average grade is: 74.75\n"
          ]
        }
      ]
    },
    {
      "cell_type": "code",
      "source": [
        "# 13. Create a class Rectangle with methods set_dimensions() to set the dimensions and area() to calculate the area\n",
        "class Rectangle:\n",
        "    def __init__(self):\n",
        "        self.length = 0\n",
        "        self.width = 0\n",
        "\n",
        "    def set_dimensions(self, length, width):\n",
        "        self.length = length\n",
        "        self.width = width\n",
        "\n",
        "    def area(self):\n",
        "        return self.length * self.width\n",
        "\n",
        "# Example\n",
        "rect = Rectangle()\n",
        "rect.set_dimensions(12, 44)\n",
        "print(\"Area of Rectangle:\", rect.area())  # Output:Area of Rectangle: 528\n"
      ],
      "metadata": {
        "colab": {
          "base_uri": "https://localhost:8080/"
        },
        "id": "tFmqyoF8P9Iz",
        "outputId": "b37f3d6a-44df-4448-8e52-90260f73bb1d"
      },
      "execution_count": null,
      "outputs": [
        {
          "output_type": "stream",
          "name": "stdout",
          "text": [
            "Area of Rectangle: 528\n"
          ]
        }
      ]
    },
    {
      "cell_type": "code",
      "source": [
        "# 14. Create a class Employee with a method calculate_salary() that computes the salary based on hours worked and hourly rate. Create a derived class Manager that adds a bonus to the salary.\n",
        "# Base class\n",
        "class Employee:\n",
        "    def __init__(self, name, hours_worked, hourly_rate):\n",
        "        self.name = name\n",
        "        self.hours_worked = hours_worked\n",
        "        self.hourly_rate = hourly_rate\n",
        "\n",
        "    def calculate_salary(self):\n",
        "        return self.hours_worked * self.hourly_rate\n",
        "\n",
        "# Derived class\n",
        "class Manager(Employee):\n",
        "    def __init__(self, name, hours_worked, hourly_rate, bonus):\n",
        "        super().__init__(name, hours_worked, hourly_rate)\n",
        "        self.bonus = bonus\n",
        "\n",
        "    def calculate_salary(self):\n",
        "        base_salary = super().calculate_salary()\n",
        "        return base_salary + self.bonus\n",
        "\n",
        "# Example\n",
        "emp = Employee(\"rajiv\", 40, 80)\n",
        "print(f\"{emp.name}'s Salary: ₹{emp.calculate_salary()}\")  # Output: rajiv's Salary: ₹3200\n",
        "\n",
        "mgr = Manager(\"shyam\", 30, 40, 2000)\n",
        "print(f\"{mgr.name}'s Salary: ₹{mgr.calculate_salary()}\")  # Output: shyam's Salary: ₹3200\n"
      ],
      "metadata": {
        "colab": {
          "base_uri": "https://localhost:8080/"
        },
        "id": "cQnJwgfZQTdo",
        "outputId": "daef15f5-8726-4829-a09d-c936ec352c43"
      },
      "execution_count": null,
      "outputs": [
        {
          "output_type": "stream",
          "name": "stdout",
          "text": [
            "rajiv's Salary: ₹3200\n",
            "shyam's Salary: ₹3200\n"
          ]
        }
      ]
    },
    {
      "cell_type": "code",
      "source": [
        "# 15. Create a class Product with attributes name, price, and quantity. Implement a method total_price() that calculates the total price of the product.\n",
        "class Product:\n",
        "    def __init__(self, name, price, quantity):\n",
        "        self.name = name\n",
        "        self.price = price\n",
        "        self.quantity = quantity\n",
        "\n",
        "    def total_price(self):\n",
        "        return self.price * self.quantity\n",
        "\n",
        "# Example\n",
        "p1 = Product(\"copies\", 60, 4)\n",
        "print(f\"Total price of {p1.name}s: ₹{p1.total_price()}\")  # Output: Total price of copiess: ₹240\n"
      ],
      "metadata": {
        "colab": {
          "base_uri": "https://localhost:8080/"
        },
        "id": "3ZySysjaQ3zG",
        "outputId": "8caa1426-d1ae-48e8-edf5-4ec4ca23b84d"
      },
      "execution_count": null,
      "outputs": [
        {
          "output_type": "stream",
          "name": "stdout",
          "text": [
            "Total price of copiess: ₹240\n"
          ]
        }
      ]
    },
    {
      "cell_type": "code",
      "source": [
        "#  16. Create a class Animal with an abstract method sound(). Create two derived classes Cow and Sheep that implement the sound() method\n",
        "from abc import ABC, abstractmethod\n",
        "\n",
        "# Abstract base class\n",
        "class Animal(ABC):\n",
        "    @abstractmethod\n",
        "    def sound(self):\n",
        "        pass\n",
        "\n",
        "# Derived class\n",
        "class Cow(Animal):\n",
        "    def sound(self):\n",
        "        print(\"Cow says Moo!\")\n",
        "\n",
        "# Derived class\n",
        "class Sheep(Animal):\n",
        "    def sound(self):\n",
        "        print(\"Sheep says Baa!\")\n",
        "\n",
        "# Example\n",
        "c = Cow()\n",
        "s = Sheep()\n",
        "\n",
        "c.sound()  # Output: Cow says Moo!\n",
        "s.sound()  # Output: Sheep says Baa!\n"
      ],
      "metadata": {
        "colab": {
          "base_uri": "https://localhost:8080/"
        },
        "id": "GipK02WgRUoI",
        "outputId": "8adaea9f-b6d9-45e6-e7b0-5f777d8ea076"
      },
      "execution_count": null,
      "outputs": [
        {
          "output_type": "stream",
          "name": "stdout",
          "text": [
            "Cow says Moo!\n",
            "Sheep says Baa!\n"
          ]
        }
      ]
    },
    {
      "cell_type": "code",
      "source": [
        "#  17. Create a class Book with attributes title, author, and year_published. Add a method get_book_info() that returns a formatted string with the book's details.\n",
        "class Book:\n",
        "    def __init__(self, title, author, year_published):\n",
        "        self.title = title\n",
        "        self.author = author\n",
        "        self.year_published = year_published\n",
        "\n",
        "    def get_book_info(self):\n",
        "        return f\"'{self.title}' by {self.author} (Published in {self.year_published})\"\n",
        "\n",
        "# Example\n",
        "book1 = Book(\"to beat someone\", \"happy bhai\", 1940)\n",
        "print(book1.get_book_info())  # Output: 'to beat someone' by happy bhai (Published in 1940)"
      ],
      "metadata": {
        "colab": {
          "base_uri": "https://localhost:8080/"
        },
        "id": "TIVkZFyuRl-E",
        "outputId": "fcda704b-c437-42b4-dfde-5e0e7e42cc92"
      },
      "execution_count": null,
      "outputs": [
        {
          "output_type": "stream",
          "name": "stdout",
          "text": [
            "'to beat someone' by happy bhai (Published in 1940)\n"
          ]
        }
      ]
    },
    {
      "cell_type": "code",
      "source": [
        "# 18. 18. Create a class House with attributes address and price. Create a derived class Mansion that adds an attribute number_of_rooms.\n",
        "# Base class\n",
        "class House:\n",
        "    def __init__(self, address, price):\n",
        "        self.address = address\n",
        "        self.price = price\n",
        "\n",
        "    def show_details(self):\n",
        "        print(f\"Address: {self.address}\")\n",
        "        print(f\"Price: ₹{self.price}\")\n",
        "\n",
        "# Derived class\n",
        "class Mansion(House):\n",
        "    def __init__(self, address, price, number_of_rooms):\n",
        "        super().__init__(address, price)\n",
        "        self.number_of_rooms = number_of_rooms\n",
        "\n",
        "    def show_details(self):\n",
        "        super().show_details()\n",
        "        print(f\"Number of rooms: {self.number_of_rooms}\")\n",
        "\n",
        "# Example\n",
        "m = Mansion(\"172 signature 360\", 500000, 40)\n",
        "m.show_details()\n"
      ],
      "metadata": {
        "colab": {
          "base_uri": "https://localhost:8080/"
        },
        "id": "0wwvRyQESAIM",
        "outputId": "958a1de8-8335-402e-cf77-a57779b2805b"
      },
      "execution_count": null,
      "outputs": [
        {
          "output_type": "stream",
          "name": "stdout",
          "text": [
            "Address: 172 signature 360\n",
            "Price: ₹500000\n",
            "Number of rooms: 40\n"
          ]
        }
      ]
    }
  ]
}